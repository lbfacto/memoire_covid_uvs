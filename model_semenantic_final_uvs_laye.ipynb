{
  "cells": [
    {
      "cell_type": "code",
      "execution_count": null,
      "metadata": {
        "id": "Q7dhtVvwXhnQ"
      },
      "outputs": [],
      "source": []
    },
    {
      "cell_type": "markdown",
      "metadata": {
        "id": "d0sVhXdVeOoG"
      },
      "source": [
        "**Model de semgmenation avec segmentation_models**"
      ]
    },
    {
      "cell_type": "code",
      "execution_count": null,
      "metadata": {
        "id": "_ZOICT4XYLCX"
      },
      "outputs": [],
      "source": [
        "!pip list"
      ]
    },
    {
      "cell_type": "markdown",
      "metadata": {
        "id": "3OtPGgHzNvi0"
      },
      "source": [
        "!pip install -U -q segmentation-models\n",
        "!pip install -q tensorflow==2.2.1\n",
        "!pip install -q keras==2.5\n",
        "import os\n",
        "os.environ[\"SM_FRAMEWORK\"] = \"tf.keras\"\n",
        "\n",
        "from tensorflow import keras\n",
        "import segmentation_models as sm"
      ]
    },
    {
      "cell_type": "code",
      "execution_count": null,
      "metadata": {
        "colab": {
          "base_uri": "https://localhost:8080/"
        },
        "id": "t3gdqVzxoy-F",
        "outputId": "9368ac4c-9b72-46cf-d697-89a458cebe6b"
      },
      "outputs": [
        {
          "name": "stdout",
          "output_type": "stream",
          "text": [
            "Looking in indexes: https://pypi.org/simple, https://us-python.pkg.dev/colab-wheels/public/simple/\n",
            "Collecting git+https://github.com/qubvel/segmentation_models\n",
            "  Cloning https://github.com/qubvel/segmentation_models to /tmp/pip-req-build-6asbi748\n",
            "  Running command git clone --filter=blob:none --quiet https://github.com/qubvel/segmentation_models /tmp/pip-req-build-6asbi748\n",
            "  Resolved https://github.com/qubvel/segmentation_models to commit e951c6747f75fa9e7240816d1c79dd2e66813123\n",
            "  Running command git submodule update --init --recursive -q\n",
            "  Preparing metadata (setup.py) ... \u001b[?25l\u001b[?25hdone\n",
            "Collecting keras_applications<=1.0.8,>=1.0.7\n",
            "  Downloading Keras_Applications-1.0.8-py3-none-any.whl (50 kB)\n",
            "\u001b[2K     \u001b[90m━━━━━━━━━━━━━━━━━━━━━━━━━━━━━━━━━━━━━━━━\u001b[0m \u001b[32m50.7/50.7 kB\u001b[0m \u001b[31m3.9 MB/s\u001b[0m eta \u001b[36m0:00:00\u001b[0m\n",
            "\u001b[?25hCollecting image-classifiers==1.0.0\n",
            "  Downloading image_classifiers-1.0.0-py3-none-any.whl (19 kB)\n",
            "Collecting efficientnet==1.0.0\n",
            "  Downloading efficientnet-1.0.0-py3-none-any.whl (17 kB)\n",
            "Requirement already satisfied: scikit-image in /usr/local/lib/python3.9/dist-packages (from efficientnet==1.0.0->segmentation-models==1.0.1) (0.19.3)\n",
            "Requirement already satisfied: h5py in /usr/local/lib/python3.9/dist-packages (from keras_applications<=1.0.8,>=1.0.7->segmentation-models==1.0.1) (3.8.0)\n",
            "Requirement already satisfied: numpy>=1.9.1 in /usr/local/lib/python3.9/dist-packages (from keras_applications<=1.0.8,>=1.0.7->segmentation-models==1.0.1) (1.22.4)\n",
            "Requirement already satisfied: packaging>=20.0 in /usr/local/lib/python3.9/dist-packages (from scikit-image->efficientnet==1.0.0->segmentation-models==1.0.1) (23.0)\n",
            "Requirement already satisfied: pillow!=7.1.0,!=7.1.1,!=8.3.0,>=6.1.0 in /usr/local/lib/python3.9/dist-packages (from scikit-image->efficientnet==1.0.0->segmentation-models==1.0.1) (8.4.0)\n",
            "Requirement already satisfied: tifffile>=2019.7.26 in /usr/local/lib/python3.9/dist-packages (from scikit-image->efficientnet==1.0.0->segmentation-models==1.0.1) (2023.3.21)\n",
            "Requirement already satisfied: PyWavelets>=1.1.1 in /usr/local/lib/python3.9/dist-packages (from scikit-image->efficientnet==1.0.0->segmentation-models==1.0.1) (1.4.1)\n",
            "Requirement already satisfied: scipy>=1.4.1 in /usr/local/lib/python3.9/dist-packages (from scikit-image->efficientnet==1.0.0->segmentation-models==1.0.1) (1.10.1)\n",
            "Requirement already satisfied: networkx>=2.2 in /usr/local/lib/python3.9/dist-packages (from scikit-image->efficientnet==1.0.0->segmentation-models==1.0.1) (3.1)\n",
            "Requirement already satisfied: imageio>=2.4.1 in /usr/local/lib/python3.9/dist-packages (from scikit-image->efficientnet==1.0.0->segmentation-models==1.0.1) (2.25.1)\n",
            "Building wheels for collected packages: segmentation-models\n",
            "  Building wheel for segmentation-models (setup.py) ... \u001b[?25l\u001b[?25hdone\n",
            "  Created wheel for segmentation-models: filename=segmentation_models-1.0.1-py3-none-any.whl size=33806 sha256=63c31dbf685a0be9787828775b8916a8721e4e46cf83ba8c810f2aa3f87d5e81\n",
            "  Stored in directory: /tmp/pip-ephem-wheel-cache-i82ltmx3/wheels/7e/e5/3d/85e32947c53e03f210361da47652f05b6f4e1c3e58f20e0ae3\n",
            "Successfully built segmentation-models\n",
            "Installing collected packages: keras_applications, image-classifiers, efficientnet, segmentation-models\n",
            "Successfully installed efficientnet-1.0.0 image-classifiers-1.0.0 keras_applications-1.0.8 segmentation-models-1.0.1\n"
          ]
        }
      ],
      "source": [
        "!pip install git+https://github.com/qubvel/segmentation_models"
      ]
    },
    {
      "cell_type": "code",
      "execution_count": null,
      "metadata": {
        "id": "TsbmJurDqZ0d"
      },
      "outputs": [],
      "source": [
        "\n",
        "import os\n",
        "os.environ[\"SM_FRAMEWORK\"] = \"tf.keras\"\n",
        "import segmentation_models as sm"
      ]
    },
    {
      "cell_type": "code",
      "execution_count": null,
      "metadata": {
        "colab": {
          "base_uri": "https://localhost:8080/"
        },
        "id": "XmAjy644waGk",
        "outputId": "1f42166d-a580-4964-c0db-0b4381c952aa"
      },
      "outputs": [
        {
          "name": "stdout",
          "output_type": "stream",
          "text": [
            "Segmentation Models: using `tf.keras` framework.\n"
          ]
        }
      ],
      "source": [
        "import segmentation_models as sm"
      ]
    },
    {
      "cell_type": "code",
      "execution_count": null,
      "metadata": {
        "id": "A3kqtUDzaWzx"
      },
      "outputs": [],
      "source": [
        "from tensorflow import keras\n",
        "import segmentation_models as sm"
      ]
    },
    {
      "cell_type": "code",
      "execution_count": null,
      "metadata": {
        "colab": {
          "base_uri": "https://localhost:8080/"
        },
        "id": "J8tp0naRy8Al",
        "outputId": "8905c71a-57fb-48a3-e4de-6cc0b93b6eae"
      },
      "outputs": [
        {
          "name": "stdout",
          "output_type": "stream",
          "text": [
            "Looking in indexes: https://pypi.org/simple, https://us-python.pkg.dev/colab-wheels/public/simple/\n",
            "Requirement already satisfied: tensorflow in /usr/local/lib/python3.9/dist-packages (2.12.0)\n",
            "Requirement already satisfied: wrapt<1.15,>=1.11.0 in /usr/local/lib/python3.9/dist-packages (from tensorflow) (1.14.1)\n",
            "Requirement already satisfied: numpy<1.24,>=1.22 in /usr/local/lib/python3.9/dist-packages (from tensorflow) (1.22.4)\n",
            "Requirement already satisfied: packaging in /usr/local/lib/python3.9/dist-packages (from tensorflow) (23.0)\n",
            "Requirement already satisfied: keras<2.13,>=2.12.0 in /usr/local/lib/python3.9/dist-packages (from tensorflow) (2.12.0)\n",
            "Requirement already satisfied: termcolor>=1.1.0 in /usr/local/lib/python3.9/dist-packages (from tensorflow) (2.2.0)\n",
            "Requirement already satisfied: typing-extensions>=3.6.6 in /usr/local/lib/python3.9/dist-packages (from tensorflow) (4.5.0)\n",
            "Requirement already satisfied: flatbuffers>=2.0 in /usr/local/lib/python3.9/dist-packages (from tensorflow) (23.3.3)\n",
            "Requirement already satisfied: gast<=0.4.0,>=0.2.1 in /usr/local/lib/python3.9/dist-packages (from tensorflow) (0.4.0)\n",
            "Requirement already satisfied: protobuf!=4.21.0,!=4.21.1,!=4.21.2,!=4.21.3,!=4.21.4,!=4.21.5,<5.0.0dev,>=3.20.3 in /usr/local/lib/python3.9/dist-packages (from tensorflow) (3.20.3)\n",
            "Requirement already satisfied: libclang>=13.0.0 in /usr/local/lib/python3.9/dist-packages (from tensorflow) (16.0.0)\n",
            "Requirement already satisfied: absl-py>=1.0.0 in /usr/local/lib/python3.9/dist-packages (from tensorflow) (1.4.0)\n",
            "Requirement already satisfied: six>=1.12.0 in /usr/local/lib/python3.9/dist-packages (from tensorflow) (1.16.0)\n",
            "Requirement already satisfied: grpcio<2.0,>=1.24.3 in /usr/local/lib/python3.9/dist-packages (from tensorflow) (1.53.0)\n",
            "Requirement already satisfied: tensorboard<2.13,>=2.12 in /usr/local/lib/python3.9/dist-packages (from tensorflow) (2.12.1)\n",
            "Requirement already satisfied: jax>=0.3.15 in /usr/local/lib/python3.9/dist-packages (from tensorflow) (0.4.8)\n",
            "Requirement already satisfied: setuptools in /usr/local/lib/python3.9/dist-packages (from tensorflow) (67.6.1)\n",
            "Requirement already satisfied: google-pasta>=0.1.1 in /usr/local/lib/python3.9/dist-packages (from tensorflow) (0.2.0)\n",
            "Requirement already satisfied: astunparse>=1.6.0 in /usr/local/lib/python3.9/dist-packages (from tensorflow) (1.6.3)\n",
            "Requirement already satisfied: opt-einsum>=2.3.2 in /usr/local/lib/python3.9/dist-packages (from tensorflow) (3.3.0)\n",
            "Requirement already satisfied: tensorflow-io-gcs-filesystem>=0.23.1 in /usr/local/lib/python3.9/dist-packages (from tensorflow) (0.32.0)\n",
            "Requirement already satisfied: tensorflow-estimator<2.13,>=2.12.0 in /usr/local/lib/python3.9/dist-packages (from tensorflow) (2.12.0)\n",
            "Requirement already satisfied: h5py>=2.9.0 in /usr/local/lib/python3.9/dist-packages (from tensorflow) (3.8.0)\n",
            "Requirement already satisfied: wheel<1.0,>=0.23.0 in /usr/local/lib/python3.9/dist-packages (from astunparse>=1.6.0->tensorflow) (0.40.0)\n",
            "Requirement already satisfied: scipy>=1.7 in /usr/local/lib/python3.9/dist-packages (from jax>=0.3.15->tensorflow) (1.10.1)\n",
            "Requirement already satisfied: ml-dtypes>=0.0.3 in /usr/local/lib/python3.9/dist-packages (from jax>=0.3.15->tensorflow) (0.0.4)\n",
            "Requirement already satisfied: google-auth-oauthlib<1.1,>=0.5 in /usr/local/lib/python3.9/dist-packages (from tensorboard<2.13,>=2.12->tensorflow) (1.0.0)\n",
            "Requirement already satisfied: werkzeug>=1.0.1 in /usr/local/lib/python3.9/dist-packages (from tensorboard<2.13,>=2.12->tensorflow) (2.2.3)\n",
            "Requirement already satisfied: tensorboard-data-server<0.8.0,>=0.7.0 in /usr/local/lib/python3.9/dist-packages (from tensorboard<2.13,>=2.12->tensorflow) (0.7.0)\n",
            "Requirement already satisfied: tensorboard-plugin-wit>=1.6.0 in /usr/local/lib/python3.9/dist-packages (from tensorboard<2.13,>=2.12->tensorflow) (1.8.1)\n",
            "Requirement already satisfied: google-auth<3,>=1.6.3 in /usr/local/lib/python3.9/dist-packages (from tensorboard<2.13,>=2.12->tensorflow) (2.17.2)\n",
            "Requirement already satisfied: markdown>=2.6.8 in /usr/local/lib/python3.9/dist-packages (from tensorboard<2.13,>=2.12->tensorflow) (3.4.3)\n",
            "Requirement already satisfied: requests<3,>=2.21.0 in /usr/local/lib/python3.9/dist-packages (from tensorboard<2.13,>=2.12->tensorflow) (2.27.1)\n",
            "Requirement already satisfied: rsa<5,>=3.1.4 in /usr/local/lib/python3.9/dist-packages (from google-auth<3,>=1.6.3->tensorboard<2.13,>=2.12->tensorflow) (4.9)\n",
            "Requirement already satisfied: pyasn1-modules>=0.2.1 in /usr/local/lib/python3.9/dist-packages (from google-auth<3,>=1.6.3->tensorboard<2.13,>=2.12->tensorflow) (0.2.8)\n",
            "Requirement already satisfied: cachetools<6.0,>=2.0.0 in /usr/local/lib/python3.9/dist-packages (from google-auth<3,>=1.6.3->tensorboard<2.13,>=2.12->tensorflow) (5.3.0)\n",
            "Requirement already satisfied: requests-oauthlib>=0.7.0 in /usr/local/lib/python3.9/dist-packages (from google-auth-oauthlib<1.1,>=0.5->tensorboard<2.13,>=2.12->tensorflow) (1.3.1)\n",
            "Requirement already satisfied: importlib-metadata>=4.4 in /usr/local/lib/python3.9/dist-packages (from markdown>=2.6.8->tensorboard<2.13,>=2.12->tensorflow) (6.3.0)\n",
            "Requirement already satisfied: urllib3<1.27,>=1.21.1 in /usr/local/lib/python3.9/dist-packages (from requests<3,>=2.21.0->tensorboard<2.13,>=2.12->tensorflow) (1.26.15)\n",
            "Requirement already satisfied: charset-normalizer~=2.0.0 in /usr/local/lib/python3.9/dist-packages (from requests<3,>=2.21.0->tensorboard<2.13,>=2.12->tensorflow) (2.0.12)\n",
            "Requirement already satisfied: idna<4,>=2.5 in /usr/local/lib/python3.9/dist-packages (from requests<3,>=2.21.0->tensorboard<2.13,>=2.12->tensorflow) (3.4)\n",
            "Requirement already satisfied: certifi>=2017.4.17 in /usr/local/lib/python3.9/dist-packages (from requests<3,>=2.21.0->tensorboard<2.13,>=2.12->tensorflow) (2022.12.7)\n",
            "Requirement already satisfied: MarkupSafe>=2.1.1 in /usr/local/lib/python3.9/dist-packages (from werkzeug>=1.0.1->tensorboard<2.13,>=2.12->tensorflow) (2.1.2)\n",
            "Requirement already satisfied: zipp>=0.5 in /usr/local/lib/python3.9/dist-packages (from importlib-metadata>=4.4->markdown>=2.6.8->tensorboard<2.13,>=2.12->tensorflow) (3.15.0)\n",
            "Requirement already satisfied: pyasn1<0.5.0,>=0.4.6 in /usr/local/lib/python3.9/dist-packages (from pyasn1-modules>=0.2.1->google-auth<3,>=1.6.3->tensorboard<2.13,>=2.12->tensorflow) (0.4.8)\n",
            "Requirement already satisfied: oauthlib>=3.0.0 in /usr/local/lib/python3.9/dist-packages (from requests-oauthlib>=0.7.0->google-auth-oauthlib<1.1,>=0.5->tensorboard<2.13,>=2.12->tensorflow) (3.2.2)\n"
          ]
        }
      ],
      "source": [
        "!pip install tensorflow --upgrade"
      ]
    },
    {
      "cell_type": "code",
      "execution_count": null,
      "metadata": {
        "id": "-ivdrqOHXuzX"
      },
      "outputs": [],
      "source": [
        "import tensorflow as tf\n",
        "import glob\n",
        "import cv2\n",
        "import os\n",
        "import numpy as np\n",
        "from matplotlib import pyplot as plt\n",
        "import segmentation_models as sm\n",
        "\n",
        "BACKBONE = 'resnet34'\n",
        "preprocess_input = sm.get_preprocessing(BACKBONE)\n"
      ]
    },
    {
      "cell_type": "code",
      "execution_count": null,
      "metadata": {
        "id": "GQDZz5o7brVb"
      },
      "outputs": [],
      "source": [
        "#Resizing images is optional, CNNs are ok with large images\n",
        "SIZE_X = 256 #Resize images (height  = X, width = Y)\n",
        "SIZE_Y = 256\n"
      ]
    },
    {
      "cell_type": "code",
      "execution_count": null,
      "metadata": {
        "colab": {
          "base_uri": "https://localhost:8080/"
        },
        "id": "VUYCWZJsbrNy",
        "outputId": "f2adf21d-ed2e-4f1b-a205-e5e1b8286f04"
      },
      "outputs": [
        {
          "name": "stdout",
          "output_type": "stream",
          "text": [
            "Looking in indexes: https://pypi.org/simple, https://us-python.pkg.dev/colab-wheels/public/simple/\n",
            "Collecting git+https://github.com/qubvel/segmentation_models\n",
            "  Cloning https://github.com/qubvel/segmentation_models to /tmp/pip-req-build-4oi8mnff\n",
            "  Running command git clone --filter=blob:none --quiet https://github.com/qubvel/segmentation_models /tmp/pip-req-build-4oi8mnff\n",
            "  Resolved https://github.com/qubvel/segmentation_models to commit e951c6747f75fa9e7240816d1c79dd2e66813123\n",
            "  Running command git submodule update --init --recursive -q\n",
            "  Preparing metadata (setup.py) ... \u001b[?25l\u001b[?25hdone\n",
            "Requirement already satisfied: keras_applications<=1.0.8,>=1.0.7 in /usr/local/lib/python3.9/dist-packages (from segmentation-models==1.0.1) (1.0.8)\n",
            "Requirement already satisfied: image-classifiers==1.0.0 in /usr/local/lib/python3.9/dist-packages (from segmentation-models==1.0.1) (1.0.0)\n",
            "Requirement already satisfied: efficientnet==1.0.0 in /usr/local/lib/python3.9/dist-packages (from segmentation-models==1.0.1) (1.0.0)\n",
            "Requirement already satisfied: scikit-image in /usr/local/lib/python3.9/dist-packages (from efficientnet==1.0.0->segmentation-models==1.0.1) (0.19.3)\n",
            "Requirement already satisfied: h5py in /usr/local/lib/python3.9/dist-packages (from keras_applications<=1.0.8,>=1.0.7->segmentation-models==1.0.1) (3.8.0)\n",
            "Requirement already satisfied: numpy>=1.9.1 in /usr/local/lib/python3.9/dist-packages (from keras_applications<=1.0.8,>=1.0.7->segmentation-models==1.0.1) (1.22.4)\n",
            "Requirement already satisfied: imageio>=2.4.1 in /usr/local/lib/python3.9/dist-packages (from scikit-image->efficientnet==1.0.0->segmentation-models==1.0.1) (2.25.1)\n",
            "Requirement already satisfied: PyWavelets>=1.1.1 in /usr/local/lib/python3.9/dist-packages (from scikit-image->efficientnet==1.0.0->segmentation-models==1.0.1) (1.4.1)\n",
            "Requirement already satisfied: packaging>=20.0 in /usr/local/lib/python3.9/dist-packages (from scikit-image->efficientnet==1.0.0->segmentation-models==1.0.1) (23.0)\n",
            "Requirement already satisfied: scipy>=1.4.1 in /usr/local/lib/python3.9/dist-packages (from scikit-image->efficientnet==1.0.0->segmentation-models==1.0.1) (1.10.1)\n",
            "Requirement already satisfied: pillow!=7.1.0,!=7.1.1,!=8.3.0,>=6.1.0 in /usr/local/lib/python3.9/dist-packages (from scikit-image->efficientnet==1.0.0->segmentation-models==1.0.1) (8.4.0)\n",
            "Requirement already satisfied: networkx>=2.2 in /usr/local/lib/python3.9/dist-packages (from scikit-image->efficientnet==1.0.0->segmentation-models==1.0.1) (3.1)\n",
            "Requirement already satisfied: tifffile>=2019.7.26 in /usr/local/lib/python3.9/dist-packages (from scikit-image->efficientnet==1.0.0->segmentation-models==1.0.1) (2023.3.21)\n"
          ]
        }
      ],
      "source": [
        "#!pip install git+https://github.com/qubvel/segmentation_models"
      ]
    },
    {
      "cell_type": "code",
      "execution_count": null,
      "metadata": {
        "id": "IleyUB_cY7dx"
      },
      "outputs": [],
      "source": [
        "train_images = []\n",
        "\n",
        "for directory_path in glob.glob(\"/content/drive/MyDrive/Model_Xrays/images\"):\n",
        "    for img_path in glob.glob(os.path.join(directory_path, \"*.png\")):\n",
        "        #print(img_path)\n",
        "        img = cv2.imread(img_path, cv2.IMREAD_COLOR)       \n",
        "        #img = cv2.resize(img, (SIZE_Y, SIZE_X))\n",
        "        #img = cv2.cvtColor(img, cv2.COLOR_RGB2BGR)\n",
        "        train_images.append(img)\n",
        "        #train_labels.append(label)\n",
        "#Convert list to array for machine learning processing        \n",
        "train_images = np.array(train_images)\n"
      ]
    },
    {
      "cell_type": "code",
      "execution_count": null,
      "metadata": {
        "id": "SqBlAYCMZGZa"
      },
      "outputs": [],
      "source": [
        "train_masks = [] \n",
        "for directory_path in glob.glob(\"/content/drive/MyDrive/Model_Xrays/Masks\"):\n",
        "    for mask_path in glob.glob(os.path.join(directory_path, \"*.png\")):\n",
        "        mask = cv2.imread(mask_path, 0)       \n",
        "        #mask = cv2.resize(mask, (SIZE_Y, SIZE_X))\n",
        "        #mask = cv2.cvtColor(mask, cv2.COLOR_RGB2BGR)\n",
        "        train_masks.append(mask)\n",
        "        #train_labels.append(label)\n",
        "#Convert list to array for machine learning processing          \n",
        "train_masks = np.array(train_masks)"
      ]
    },
    {
      "cell_type": "code",
      "execution_count": null,
      "metadata": {
        "id": "12-fdes5ZOOx"
      },
      "outputs": [],
      "source": [
        "#Use customary x_train and y_train variables\n",
        "X = train_images\n",
        "Y = train_masks\n",
        "Y = np.expand_dims(Y, axis=3) #May not be necessary.. leftover from previous code \n"
      ]
    },
    {
      "cell_type": "code",
      "execution_count": null,
      "metadata": {
        "id": "Tz9UUURxZQj5"
      },
      "outputs": [],
      "source": [
        "from sklearn.model_selection import train_test_split\n",
        "x_train, x_val, y_train, y_val = train_test_split(X, Y, test_size=0.2, random_state=42)"
      ]
    },
    {
      "cell_type": "code",
      "execution_count": null,
      "metadata": {
        "id": "J4r-0017ZS3X"
      },
      "outputs": [],
      "source": [
        "\n",
        "# preprocess input\n",
        "\n",
        "x_train = preprocess_input(x_train)\n",
        "x_val = preprocess_input(x_val)"
      ]
    },
    {
      "cell_type": "code",
      "execution_count": null,
      "metadata": {
        "colab": {
          "base_uri": "https://localhost:8080/"
        },
        "id": "mw4hHOxOZVSv",
        "outputId": "c1721efe-1c50-45c6-9552-007a94dfe5c6"
      },
      "outputs": [
        {
          "name": "stdout",
          "output_type": "stream",
          "text": [
            "Downloading data from https://github.com/qubvel/classification_models/releases/download/0.0.1/resnet34_imagenet_1000_no_top.h5\n",
            "85521592/85521592 [==============================] - 23s 0us/step\n"
          ]
        }
      ],
      "source": [
        "# define model\n",
        "model = sm.Unet(BACKBONE, encoder_weights='imagenet')\n",
        "model.compile(optimizer='adam', loss='binary_crossentropy', metrics=['mse'])"
      ]
    },
    {
      "cell_type": "code",
      "execution_count": null,
      "metadata": {
        "colab": {
          "base_uri": "https://localhost:8080/"
        },
        "id": "EQ9w745CZYlT",
        "outputId": "4ef7a33c-3f89-4fe7-af17-7261abb05934"
      },
      "outputs": [
        {
          "name": "stdout",
          "output_type": "stream",
          "text": [
            "Model: \"model_1\"\n",
            "__________________________________________________________________________________________________\n",
            " Layer (type)                   Output Shape         Param #     Connected to                     \n",
            "==================================================================================================\n",
            " data (InputLayer)              [(None, None, None,  0           []                               \n",
            "                                 3)]                                                              \n",
            "                                                                                                  \n",
            " bn_data (BatchNormalization)   (None, None, None,   9           ['data[0][0]']                   \n",
            "                                3)                                                                \n",
            "                                                                                                  \n",
            " zero_padding2d (ZeroPadding2D)  (None, None, None,   0          ['bn_data[0][0]']                \n",
            "                                3)                                                                \n",
            "                                                                                                  \n",
            " conv0 (Conv2D)                 (None, None, None,   9408        ['zero_padding2d[0][0]']         \n",
            "                                64)                                                               \n",
            "                                                                                                  \n",
            " bn0 (BatchNormalization)       (None, None, None,   256         ['conv0[0][0]']                  \n",
            "                                64)                                                               \n",
            "                                                                                                  \n",
            " relu0 (Activation)             (None, None, None,   0           ['bn0[0][0]']                    \n",
            "                                64)                                                               \n",
            "                                                                                                  \n",
            " zero_padding2d_1 (ZeroPadding2  (None, None, None,   0          ['relu0[0][0]']                  \n",
            " D)                             64)                                                               \n",
            "                                                                                                  \n",
            " pooling0 (MaxPooling2D)        (None, None, None,   0           ['zero_padding2d_1[0][0]']       \n",
            "                                64)                                                               \n",
            "                                                                                                  \n",
            " stage1_unit1_bn1 (BatchNormali  (None, None, None,   256        ['pooling0[0][0]']               \n",
            " zation)                        64)                                                               \n",
            "                                                                                                  \n",
            " stage1_unit1_relu1 (Activation  (None, None, None,   0          ['stage1_unit1_bn1[0][0]']       \n",
            " )                              64)                                                               \n",
            "                                                                                                  \n",
            " zero_padding2d_2 (ZeroPadding2  (None, None, None,   0          ['stage1_unit1_relu1[0][0]']     \n",
            " D)                             64)                                                               \n",
            "                                                                                                  \n",
            " stage1_unit1_conv1 (Conv2D)    (None, None, None,   36864       ['zero_padding2d_2[0][0]']       \n",
            "                                64)                                                               \n",
            "                                                                                                  \n",
            " stage1_unit1_bn2 (BatchNormali  (None, None, None,   256        ['stage1_unit1_conv1[0][0]']     \n",
            " zation)                        64)                                                               \n",
            "                                                                                                  \n",
            " stage1_unit1_relu2 (Activation  (None, None, None,   0          ['stage1_unit1_bn2[0][0]']       \n",
            " )                              64)                                                               \n",
            "                                                                                                  \n",
            " zero_padding2d_3 (ZeroPadding2  (None, None, None,   0          ['stage1_unit1_relu2[0][0]']     \n",
            " D)                             64)                                                               \n",
            "                                                                                                  \n",
            " stage1_unit1_conv2 (Conv2D)    (None, None, None,   36864       ['zero_padding2d_3[0][0]']       \n",
            "                                64)                                                               \n",
            "                                                                                                  \n",
            " stage1_unit1_sc (Conv2D)       (None, None, None,   4096        ['stage1_unit1_relu1[0][0]']     \n",
            "                                64)                                                               \n",
            "                                                                                                  \n",
            " add (Add)                      (None, None, None,   0           ['stage1_unit1_conv2[0][0]',     \n",
            "                                64)                               'stage1_unit1_sc[0][0]']        \n",
            "                                                                                                  \n",
            " stage1_unit2_bn1 (BatchNormali  (None, None, None,   256        ['add[0][0]']                    \n",
            " zation)                        64)                                                               \n",
            "                                                                                                  \n",
            " stage1_unit2_relu1 (Activation  (None, None, None,   0          ['stage1_unit2_bn1[0][0]']       \n",
            " )                              64)                                                               \n",
            "                                                                                                  \n",
            " zero_padding2d_4 (ZeroPadding2  (None, None, None,   0          ['stage1_unit2_relu1[0][0]']     \n",
            " D)                             64)                                                               \n",
            "                                                                                                  \n",
            " stage1_unit2_conv1 (Conv2D)    (None, None, None,   36864       ['zero_padding2d_4[0][0]']       \n",
            "                                64)                                                               \n",
            "                                                                                                  \n",
            " stage1_unit2_bn2 (BatchNormali  (None, None, None,   256        ['stage1_unit2_conv1[0][0]']     \n",
            " zation)                        64)                                                               \n",
            "                                                                                                  \n",
            " stage1_unit2_relu2 (Activation  (None, None, None,   0          ['stage1_unit2_bn2[0][0]']       \n",
            " )                              64)                                                               \n",
            "                                                                                                  \n",
            " zero_padding2d_5 (ZeroPadding2  (None, None, None,   0          ['stage1_unit2_relu2[0][0]']     \n",
            " D)                             64)                                                               \n",
            "                                                                                                  \n",
            " stage1_unit2_conv2 (Conv2D)    (None, None, None,   36864       ['zero_padding2d_5[0][0]']       \n",
            "                                64)                                                               \n",
            "                                                                                                  \n",
            " add_1 (Add)                    (None, None, None,   0           ['stage1_unit2_conv2[0][0]',     \n",
            "                                64)                               'add[0][0]']                    \n",
            "                                                                                                  \n",
            " stage1_unit3_bn1 (BatchNormali  (None, None, None,   256        ['add_1[0][0]']                  \n",
            " zation)                        64)                                                               \n",
            "                                                                                                  \n",
            " stage1_unit3_relu1 (Activation  (None, None, None,   0          ['stage1_unit3_bn1[0][0]']       \n",
            " )                              64)                                                               \n",
            "                                                                                                  \n",
            " zero_padding2d_6 (ZeroPadding2  (None, None, None,   0          ['stage1_unit3_relu1[0][0]']     \n",
            " D)                             64)                                                               \n",
            "                                                                                                  \n",
            " stage1_unit3_conv1 (Conv2D)    (None, None, None,   36864       ['zero_padding2d_6[0][0]']       \n",
            "                                64)                                                               \n",
            "                                                                                                  \n",
            " stage1_unit3_bn2 (BatchNormali  (None, None, None,   256        ['stage1_unit3_conv1[0][0]']     \n",
            " zation)                        64)                                                               \n",
            "                                                                                                  \n",
            " stage1_unit3_relu2 (Activation  (None, None, None,   0          ['stage1_unit3_bn2[0][0]']       \n",
            " )                              64)                                                               \n",
            "                                                                                                  \n",
            " zero_padding2d_7 (ZeroPadding2  (None, None, None,   0          ['stage1_unit3_relu2[0][0]']     \n",
            " D)                             64)                                                               \n",
            "                                                                                                  \n",
            " stage1_unit3_conv2 (Conv2D)    (None, None, None,   36864       ['zero_padding2d_7[0][0]']       \n",
            "                                64)                                                               \n",
            "                                                                                                  \n",
            " add_2 (Add)                    (None, None, None,   0           ['stage1_unit3_conv2[0][0]',     \n",
            "                                64)                               'add_1[0][0]']                  \n",
            "                                                                                                  \n",
            " stage2_unit1_bn1 (BatchNormali  (None, None, None,   256        ['add_2[0][0]']                  \n",
            " zation)                        64)                                                               \n",
            "                                                                                                  \n",
            " stage2_unit1_relu1 (Activation  (None, None, None,   0          ['stage2_unit1_bn1[0][0]']       \n",
            " )                              64)                                                               \n",
            "                                                                                                  \n",
            " zero_padding2d_8 (ZeroPadding2  (None, None, None,   0          ['stage2_unit1_relu1[0][0]']     \n",
            " D)                             64)                                                               \n",
            "                                                                                                  \n",
            " stage2_unit1_conv1 (Conv2D)    (None, None, None,   73728       ['zero_padding2d_8[0][0]']       \n",
            "                                128)                                                              \n",
            "                                                                                                  \n",
            " stage2_unit1_bn2 (BatchNormali  (None, None, None,   512        ['stage2_unit1_conv1[0][0]']     \n",
            " zation)                        128)                                                              \n",
            "                                                                                                  \n",
            " stage2_unit1_relu2 (Activation  (None, None, None,   0          ['stage2_unit1_bn2[0][0]']       \n",
            " )                              128)                                                              \n",
            "                                                                                                  \n",
            " zero_padding2d_9 (ZeroPadding2  (None, None, None,   0          ['stage2_unit1_relu2[0][0]']     \n",
            " D)                             128)                                                              \n",
            "                                                                                                  \n",
            " stage2_unit1_conv2 (Conv2D)    (None, None, None,   147456      ['zero_padding2d_9[0][0]']       \n",
            "                                128)                                                              \n",
            "                                                                                                  \n",
            " stage2_unit1_sc (Conv2D)       (None, None, None,   8192        ['stage2_unit1_relu1[0][0]']     \n",
            "                                128)                                                              \n",
            "                                                                                                  \n",
            " add_3 (Add)                    (None, None, None,   0           ['stage2_unit1_conv2[0][0]',     \n",
            "                                128)                              'stage2_unit1_sc[0][0]']        \n",
            "                                                                                                  \n",
            " stage2_unit2_bn1 (BatchNormali  (None, None, None,   512        ['add_3[0][0]']                  \n",
            " zation)                        128)                                                              \n",
            "                                                                                                  \n",
            " stage2_unit2_relu1 (Activation  (None, None, None,   0          ['stage2_unit2_bn1[0][0]']       \n",
            " )                              128)                                                              \n",
            "                                                                                                  \n",
            " zero_padding2d_10 (ZeroPadding  (None, None, None,   0          ['stage2_unit2_relu1[0][0]']     \n",
            " 2D)                            128)                                                              \n",
            "                                                                                                  \n",
            " stage2_unit2_conv1 (Conv2D)    (None, None, None,   147456      ['zero_padding2d_10[0][0]']      \n",
            "                                128)                                                              \n",
            "                                                                                                  \n",
            " stage2_unit2_bn2 (BatchNormali  (None, None, None,   512        ['stage2_unit2_conv1[0][0]']     \n",
            " zation)                        128)                                                              \n",
            "                                                                                                  \n",
            " stage2_unit2_relu2 (Activation  (None, None, None,   0          ['stage2_unit2_bn2[0][0]']       \n",
            " )                              128)                                                              \n",
            "                                                                                                  \n",
            " zero_padding2d_11 (ZeroPadding  (None, None, None,   0          ['stage2_unit2_relu2[0][0]']     \n",
            " 2D)                            128)                                                              \n",
            "                                                                                                  \n",
            " stage2_unit2_conv2 (Conv2D)    (None, None, None,   147456      ['zero_padding2d_11[0][0]']      \n",
            "                                128)                                                              \n",
            "                                                                                                  \n",
            " add_4 (Add)                    (None, None, None,   0           ['stage2_unit2_conv2[0][0]',     \n",
            "                                128)                              'add_3[0][0]']                  \n",
            "                                                                                                  \n",
            " stage2_unit3_bn1 (BatchNormali  (None, None, None,   512        ['add_4[0][0]']                  \n",
            " zation)                        128)                                                              \n",
            "                                                                                                  \n",
            " stage2_unit3_relu1 (Activation  (None, None, None,   0          ['stage2_unit3_bn1[0][0]']       \n",
            " )                              128)                                                              \n",
            "                                                                                                  \n",
            " zero_padding2d_12 (ZeroPadding  (None, None, None,   0          ['stage2_unit3_relu1[0][0]']     \n",
            " 2D)                            128)                                                              \n",
            "                                                                                                  \n",
            " stage2_unit3_conv1 (Conv2D)    (None, None, None,   147456      ['zero_padding2d_12[0][0]']      \n",
            "                                128)                                                              \n",
            "                                                                                                  \n",
            " stage2_unit3_bn2 (BatchNormali  (None, None, None,   512        ['stage2_unit3_conv1[0][0]']     \n",
            " zation)                        128)                                                              \n",
            "                                                                                                  \n",
            " stage2_unit3_relu2 (Activation  (None, None, None,   0          ['stage2_unit3_bn2[0][0]']       \n",
            " )                              128)                                                              \n",
            "                                                                                                  \n",
            " zero_padding2d_13 (ZeroPadding  (None, None, None,   0          ['stage2_unit3_relu2[0][0]']     \n",
            " 2D)                            128)                                                              \n",
            "                                                                                                  \n",
            " stage2_unit3_conv2 (Conv2D)    (None, None, None,   147456      ['zero_padding2d_13[0][0]']      \n",
            "                                128)                                                              \n",
            "                                                                                                  \n",
            " add_5 (Add)                    (None, None, None,   0           ['stage2_unit3_conv2[0][0]',     \n",
            "                                128)                              'add_4[0][0]']                  \n",
            "                                                                                                  \n",
            " stage2_unit4_bn1 (BatchNormali  (None, None, None,   512        ['add_5[0][0]']                  \n",
            " zation)                        128)                                                              \n",
            "                                                                                                  \n",
            " stage2_unit4_relu1 (Activation  (None, None, None,   0          ['stage2_unit4_bn1[0][0]']       \n",
            " )                              128)                                                              \n",
            "                                                                                                  \n",
            " zero_padding2d_14 (ZeroPadding  (None, None, None,   0          ['stage2_unit4_relu1[0][0]']     \n",
            " 2D)                            128)                                                              \n",
            "                                                                                                  \n",
            " stage2_unit4_conv1 (Conv2D)    (None, None, None,   147456      ['zero_padding2d_14[0][0]']      \n",
            "                                128)                                                              \n",
            "                                                                                                  \n",
            " stage2_unit4_bn2 (BatchNormali  (None, None, None,   512        ['stage2_unit4_conv1[0][0]']     \n",
            " zation)                        128)                                                              \n",
            "                                                                                                  \n",
            " stage2_unit4_relu2 (Activation  (None, None, None,   0          ['stage2_unit4_bn2[0][0]']       \n",
            " )                              128)                                                              \n",
            "                                                                                                  \n",
            " zero_padding2d_15 (ZeroPadding  (None, None, None,   0          ['stage2_unit4_relu2[0][0]']     \n",
            " 2D)                            128)                                                              \n",
            "                                                                                                  \n",
            " stage2_unit4_conv2 (Conv2D)    (None, None, None,   147456      ['zero_padding2d_15[0][0]']      \n",
            "                                128)                                                              \n",
            "                                                                                                  \n",
            " add_6 (Add)                    (None, None, None,   0           ['stage2_unit4_conv2[0][0]',     \n",
            "                                128)                              'add_5[0][0]']                  \n",
            "                                                                                                  \n",
            " stage3_unit1_bn1 (BatchNormali  (None, None, None,   512        ['add_6[0][0]']                  \n",
            " zation)                        128)                                                              \n",
            "                                                                                                  \n",
            " stage3_unit1_relu1 (Activation  (None, None, None,   0          ['stage3_unit1_bn1[0][0]']       \n",
            " )                              128)                                                              \n",
            "                                                                                                  \n",
            " zero_padding2d_16 (ZeroPadding  (None, None, None,   0          ['stage3_unit1_relu1[0][0]']     \n",
            " 2D)                            128)                                                              \n",
            "                                                                                                  \n",
            " stage3_unit1_conv1 (Conv2D)    (None, None, None,   294912      ['zero_padding2d_16[0][0]']      \n",
            "                                256)                                                              \n",
            "                                                                                                  \n",
            " stage3_unit1_bn2 (BatchNormali  (None, None, None,   1024       ['stage3_unit1_conv1[0][0]']     \n",
            " zation)                        256)                                                              \n",
            "                                                                                                  \n",
            " stage3_unit1_relu2 (Activation  (None, None, None,   0          ['stage3_unit1_bn2[0][0]']       \n",
            " )                              256)                                                              \n",
            "                                                                                                  \n",
            " zero_padding2d_17 (ZeroPadding  (None, None, None,   0          ['stage3_unit1_relu2[0][0]']     \n",
            " 2D)                            256)                                                              \n",
            "                                                                                                  \n",
            " stage3_unit1_conv2 (Conv2D)    (None, None, None,   589824      ['zero_padding2d_17[0][0]']      \n",
            "                                256)                                                              \n",
            "                                                                                                  \n",
            " stage3_unit1_sc (Conv2D)       (None, None, None,   32768       ['stage3_unit1_relu1[0][0]']     \n",
            "                                256)                                                              \n",
            "                                                                                                  \n",
            " add_7 (Add)                    (None, None, None,   0           ['stage3_unit1_conv2[0][0]',     \n",
            "                                256)                              'stage3_unit1_sc[0][0]']        \n",
            "                                                                                                  \n",
            " stage3_unit2_bn1 (BatchNormali  (None, None, None,   1024       ['add_7[0][0]']                  \n",
            " zation)                        256)                                                              \n",
            "                                                                                                  \n",
            " stage3_unit2_relu1 (Activation  (None, None, None,   0          ['stage3_unit2_bn1[0][0]']       \n",
            " )                              256)                                                              \n",
            "                                                                                                  \n",
            " zero_padding2d_18 (ZeroPadding  (None, None, None,   0          ['stage3_unit2_relu1[0][0]']     \n",
            " 2D)                            256)                                                              \n",
            "                                                                                                  \n",
            " stage3_unit2_conv1 (Conv2D)    (None, None, None,   589824      ['zero_padding2d_18[0][0]']      \n",
            "                                256)                                                              \n",
            "                                                                                                  \n",
            " stage3_unit2_bn2 (BatchNormali  (None, None, None,   1024       ['stage3_unit2_conv1[0][0]']     \n",
            " zation)                        256)                                                              \n",
            "                                                                                                  \n",
            " stage3_unit2_relu2 (Activation  (None, None, None,   0          ['stage3_unit2_bn2[0][0]']       \n",
            " )                              256)                                                              \n",
            "                                                                                                  \n",
            " zero_padding2d_19 (ZeroPadding  (None, None, None,   0          ['stage3_unit2_relu2[0][0]']     \n",
            " 2D)                            256)                                                              \n",
            "                                                                                                  \n",
            " stage3_unit2_conv2 (Conv2D)    (None, None, None,   589824      ['zero_padding2d_19[0][0]']      \n",
            "                                256)                                                              \n",
            "                                                                                                  \n",
            " add_8 (Add)                    (None, None, None,   0           ['stage3_unit2_conv2[0][0]',     \n",
            "                                256)                              'add_7[0][0]']                  \n",
            "                                                                                                  \n",
            " stage3_unit3_bn1 (BatchNormali  (None, None, None,   1024       ['add_8[0][0]']                  \n",
            " zation)                        256)                                                              \n",
            "                                                                                                  \n",
            " stage3_unit3_relu1 (Activation  (None, None, None,   0          ['stage3_unit3_bn1[0][0]']       \n",
            " )                              256)                                                              \n",
            "                                                                                                  \n",
            " zero_padding2d_20 (ZeroPadding  (None, None, None,   0          ['stage3_unit3_relu1[0][0]']     \n",
            " 2D)                            256)                                                              \n",
            "                                                                                                  \n",
            " stage3_unit3_conv1 (Conv2D)    (None, None, None,   589824      ['zero_padding2d_20[0][0]']      \n",
            "                                256)                                                              \n",
            "                                                                                                  \n",
            " stage3_unit3_bn2 (BatchNormali  (None, None, None,   1024       ['stage3_unit3_conv1[0][0]']     \n",
            " zation)                        256)                                                              \n",
            "                                                                                                  \n",
            " stage3_unit3_relu2 (Activation  (None, None, None,   0          ['stage3_unit3_bn2[0][0]']       \n",
            " )                              256)                                                              \n",
            "                                                                                                  \n",
            " zero_padding2d_21 (ZeroPadding  (None, None, None,   0          ['stage3_unit3_relu2[0][0]']     \n",
            " 2D)                            256)                                                              \n",
            "                                                                                                  \n",
            " stage3_unit3_conv2 (Conv2D)    (None, None, None,   589824      ['zero_padding2d_21[0][0]']      \n",
            "                                256)                                                              \n",
            "                                                                                                  \n",
            " add_9 (Add)                    (None, None, None,   0           ['stage3_unit3_conv2[0][0]',     \n",
            "                                256)                              'add_8[0][0]']                  \n",
            "                                                                                                  \n",
            " stage3_unit4_bn1 (BatchNormali  (None, None, None,   1024       ['add_9[0][0]']                  \n",
            " zation)                        256)                                                              \n",
            "                                                                                                  \n",
            " stage3_unit4_relu1 (Activation  (None, None, None,   0          ['stage3_unit4_bn1[0][0]']       \n",
            " )                              256)                                                              \n",
            "                                                                                                  \n",
            " zero_padding2d_22 (ZeroPadding  (None, None, None,   0          ['stage3_unit4_relu1[0][0]']     \n",
            " 2D)                            256)                                                              \n",
            "                                                                                                  \n",
            " stage3_unit4_conv1 (Conv2D)    (None, None, None,   589824      ['zero_padding2d_22[0][0]']      \n",
            "                                256)                                                              \n",
            "                                                                                                  \n",
            " stage3_unit4_bn2 (BatchNormali  (None, None, None,   1024       ['stage3_unit4_conv1[0][0]']     \n",
            " zation)                        256)                                                              \n",
            "                                                                                                  \n",
            " stage3_unit4_relu2 (Activation  (None, None, None,   0          ['stage3_unit4_bn2[0][0]']       \n",
            " )                              256)                                                              \n",
            "                                                                                                  \n",
            " zero_padding2d_23 (ZeroPadding  (None, None, None,   0          ['stage3_unit4_relu2[0][0]']     \n",
            " 2D)                            256)                                                              \n",
            "                                                                                                  \n",
            " stage3_unit4_conv2 (Conv2D)    (None, None, None,   589824      ['zero_padding2d_23[0][0]']      \n",
            "                                256)                                                              \n",
            "                                                                                                  \n",
            " add_10 (Add)                   (None, None, None,   0           ['stage3_unit4_conv2[0][0]',     \n",
            "                                256)                              'add_9[0][0]']                  \n",
            "                                                                                                  \n",
            " stage3_unit5_bn1 (BatchNormali  (None, None, None,   1024       ['add_10[0][0]']                 \n",
            " zation)                        256)                                                              \n",
            "                                                                                                  \n",
            " stage3_unit5_relu1 (Activation  (None, None, None,   0          ['stage3_unit5_bn1[0][0]']       \n",
            " )                              256)                                                              \n",
            "                                                                                                  \n",
            " zero_padding2d_24 (ZeroPadding  (None, None, None,   0          ['stage3_unit5_relu1[0][0]']     \n",
            " 2D)                            256)                                                              \n",
            "                                                                                                  \n",
            " stage3_unit5_conv1 (Conv2D)    (None, None, None,   589824      ['zero_padding2d_24[0][0]']      \n",
            "                                256)                                                              \n",
            "                                                                                                  \n",
            " stage3_unit5_bn2 (BatchNormali  (None, None, None,   1024       ['stage3_unit5_conv1[0][0]']     \n",
            " zation)                        256)                                                              \n",
            "                                                                                                  \n",
            " stage3_unit5_relu2 (Activation  (None, None, None,   0          ['stage3_unit5_bn2[0][0]']       \n",
            " )                              256)                                                              \n",
            "                                                                                                  \n",
            " zero_padding2d_25 (ZeroPadding  (None, None, None,   0          ['stage3_unit5_relu2[0][0]']     \n",
            " 2D)                            256)                                                              \n",
            "                                                                                                  \n",
            " stage3_unit5_conv2 (Conv2D)    (None, None, None,   589824      ['zero_padding2d_25[0][0]']      \n",
            "                                256)                                                              \n",
            "                                                                                                  \n",
            " add_11 (Add)                   (None, None, None,   0           ['stage3_unit5_conv2[0][0]',     \n",
            "                                256)                              'add_10[0][0]']                 \n",
            "                                                                                                  \n",
            " stage3_unit6_bn1 (BatchNormali  (None, None, None,   1024       ['add_11[0][0]']                 \n",
            " zation)                        256)                                                              \n",
            "                                                                                                  \n",
            " stage3_unit6_relu1 (Activation  (None, None, None,   0          ['stage3_unit6_bn1[0][0]']       \n",
            " )                              256)                                                              \n",
            "                                                                                                  \n",
            " zero_padding2d_26 (ZeroPadding  (None, None, None,   0          ['stage3_unit6_relu1[0][0]']     \n",
            " 2D)                            256)                                                              \n",
            "                                                                                                  \n",
            " stage3_unit6_conv1 (Conv2D)    (None, None, None,   589824      ['zero_padding2d_26[0][0]']      \n",
            "                                256)                                                              \n",
            "                                                                                                  \n",
            " stage3_unit6_bn2 (BatchNormali  (None, None, None,   1024       ['stage3_unit6_conv1[0][0]']     \n",
            " zation)                        256)                                                              \n",
            "                                                                                                  \n",
            " stage3_unit6_relu2 (Activation  (None, None, None,   0          ['stage3_unit6_bn2[0][0]']       \n",
            " )                              256)                                                              \n",
            "                                                                                                  \n",
            " zero_padding2d_27 (ZeroPadding  (None, None, None,   0          ['stage3_unit6_relu2[0][0]']     \n",
            " 2D)                            256)                                                              \n",
            "                                                                                                  \n",
            " stage3_unit6_conv2 (Conv2D)    (None, None, None,   589824      ['zero_padding2d_27[0][0]']      \n",
            "                                256)                                                              \n",
            "                                                                                                  \n",
            " add_12 (Add)                   (None, None, None,   0           ['stage3_unit6_conv2[0][0]',     \n",
            "                                256)                              'add_11[0][0]']                 \n",
            "                                                                                                  \n",
            " stage4_unit1_bn1 (BatchNormali  (None, None, None,   1024       ['add_12[0][0]']                 \n",
            " zation)                        256)                                                              \n",
            "                                                                                                  \n",
            " stage4_unit1_relu1 (Activation  (None, None, None,   0          ['stage4_unit1_bn1[0][0]']       \n",
            " )                              256)                                                              \n",
            "                                                                                                  \n",
            " zero_padding2d_28 (ZeroPadding  (None, None, None,   0          ['stage4_unit1_relu1[0][0]']     \n",
            " 2D)                            256)                                                              \n",
            "                                                                                                  \n",
            " stage4_unit1_conv1 (Conv2D)    (None, None, None,   1179648     ['zero_padding2d_28[0][0]']      \n",
            "                                512)                                                              \n",
            "                                                                                                  \n",
            " stage4_unit1_bn2 (BatchNormali  (None, None, None,   2048       ['stage4_unit1_conv1[0][0]']     \n",
            " zation)                        512)                                                              \n",
            "                                                                                                  \n",
            " stage4_unit1_relu2 (Activation  (None, None, None,   0          ['stage4_unit1_bn2[0][0]']       \n",
            " )                              512)                                                              \n",
            "                                                                                                  \n",
            " zero_padding2d_29 (ZeroPadding  (None, None, None,   0          ['stage4_unit1_relu2[0][0]']     \n",
            " 2D)                            512)                                                              \n",
            "                                                                                                  \n",
            " stage4_unit1_conv2 (Conv2D)    (None, None, None,   2359296     ['zero_padding2d_29[0][0]']      \n",
            "                                512)                                                              \n",
            "                                                                                                  \n",
            " stage4_unit1_sc (Conv2D)       (None, None, None,   131072      ['stage4_unit1_relu1[0][0]']     \n",
            "                                512)                                                              \n",
            "                                                                                                  \n",
            " add_13 (Add)                   (None, None, None,   0           ['stage4_unit1_conv2[0][0]',     \n",
            "                                512)                              'stage4_unit1_sc[0][0]']        \n",
            "                                                                                                  \n",
            " stage4_unit2_bn1 (BatchNormali  (None, None, None,   2048       ['add_13[0][0]']                 \n",
            " zation)                        512)                                                              \n",
            "                                                                                                  \n",
            " stage4_unit2_relu1 (Activation  (None, None, None,   0          ['stage4_unit2_bn1[0][0]']       \n",
            " )                              512)                                                              \n",
            "                                                                                                  \n",
            " zero_padding2d_30 (ZeroPadding  (None, None, None,   0          ['stage4_unit2_relu1[0][0]']     \n",
            " 2D)                            512)                                                              \n",
            "                                                                                                  \n",
            " stage4_unit2_conv1 (Conv2D)    (None, None, None,   2359296     ['zero_padding2d_30[0][0]']      \n",
            "                                512)                                                              \n",
            "                                                                                                  \n",
            " stage4_unit2_bn2 (BatchNormali  (None, None, None,   2048       ['stage4_unit2_conv1[0][0]']     \n",
            " zation)                        512)                                                              \n",
            "                                                                                                  \n",
            " stage4_unit2_relu2 (Activation  (None, None, None,   0          ['stage4_unit2_bn2[0][0]']       \n",
            " )                              512)                                                              \n",
            "                                                                                                  \n",
            " zero_padding2d_31 (ZeroPadding  (None, None, None,   0          ['stage4_unit2_relu2[0][0]']     \n",
            " 2D)                            512)                                                              \n",
            "                                                                                                  \n",
            " stage4_unit2_conv2 (Conv2D)    (None, None, None,   2359296     ['zero_padding2d_31[0][0]']      \n",
            "                                512)                                                              \n",
            "                                                                                                  \n",
            " add_14 (Add)                   (None, None, None,   0           ['stage4_unit2_conv2[0][0]',     \n",
            "                                512)                              'add_13[0][0]']                 \n",
            "                                                                                                  \n",
            " stage4_unit3_bn1 (BatchNormali  (None, None, None,   2048       ['add_14[0][0]']                 \n",
            " zation)                        512)                                                              \n",
            "                                                                                                  \n",
            " stage4_unit3_relu1 (Activation  (None, None, None,   0          ['stage4_unit3_bn1[0][0]']       \n",
            " )                              512)                                                              \n",
            "                                                                                                  \n",
            " zero_padding2d_32 (ZeroPadding  (None, None, None,   0          ['stage4_unit3_relu1[0][0]']     \n",
            " 2D)                            512)                                                              \n",
            "                                                                                                  \n",
            " stage4_unit3_conv1 (Conv2D)    (None, None, None,   2359296     ['zero_padding2d_32[0][0]']      \n",
            "                                512)                                                              \n",
            "                                                                                                  \n",
            " stage4_unit3_bn2 (BatchNormali  (None, None, None,   2048       ['stage4_unit3_conv1[0][0]']     \n",
            " zation)                        512)                                                              \n",
            "                                                                                                  \n",
            " stage4_unit3_relu2 (Activation  (None, None, None,   0          ['stage4_unit3_bn2[0][0]']       \n",
            " )                              512)                                                              \n",
            "                                                                                                  \n",
            " zero_padding2d_33 (ZeroPadding  (None, None, None,   0          ['stage4_unit3_relu2[0][0]']     \n",
            " 2D)                            512)                                                              \n",
            "                                                                                                  \n",
            " stage4_unit3_conv2 (Conv2D)    (None, None, None,   2359296     ['zero_padding2d_33[0][0]']      \n",
            "                                512)                                                              \n",
            "                                                                                                  \n",
            " add_15 (Add)                   (None, None, None,   0           ['stage4_unit3_conv2[0][0]',     \n",
            "                                512)                              'add_14[0][0]']                 \n",
            "                                                                                                  \n",
            " bn1 (BatchNormalization)       (None, None, None,   2048        ['add_15[0][0]']                 \n",
            "                                512)                                                              \n",
            "                                                                                                  \n",
            " relu1 (Activation)             (None, None, None,   0           ['bn1[0][0]']                    \n",
            "                                512)                                                              \n",
            "                                                                                                  \n",
            " decoder_stage0_upsampling (UpS  (None, None, None,   0          ['relu1[0][0]']                  \n",
            " ampling2D)                     512)                                                              \n",
            "                                                                                                  \n",
            " decoder_stage0_concat (Concate  (None, None, None,   0          ['decoder_stage0_upsampling[0][0]\n",
            " nate)                          768)                             ',                               \n",
            "                                                                  'stage4_unit1_relu1[0][0]']     \n",
            "                                                                                                  \n",
            " decoder_stage0a_conv (Conv2D)  (None, None, None,   1769472     ['decoder_stage0_concat[0][0]']  \n",
            "                                256)                                                              \n",
            "                                                                                                  \n",
            " decoder_stage0a_bn (BatchNorma  (None, None, None,   1024       ['decoder_stage0a_conv[0][0]']   \n",
            " lization)                      256)                                                              \n",
            "                                                                                                  \n",
            " decoder_stage0a_relu (Activati  (None, None, None,   0          ['decoder_stage0a_bn[0][0]']     \n",
            " on)                            256)                                                              \n",
            "                                                                                                  \n",
            " decoder_stage0b_conv (Conv2D)  (None, None, None,   589824      ['decoder_stage0a_relu[0][0]']   \n",
            "                                256)                                                              \n",
            "                                                                                                  \n",
            " decoder_stage0b_bn (BatchNorma  (None, None, None,   1024       ['decoder_stage0b_conv[0][0]']   \n",
            " lization)                      256)                                                              \n",
            "                                                                                                  \n",
            " decoder_stage0b_relu (Activati  (None, None, None,   0          ['decoder_stage0b_bn[0][0]']     \n",
            " on)                            256)                                                              \n",
            "                                                                                                  \n",
            " decoder_stage1_upsampling (UpS  (None, None, None,   0          ['decoder_stage0b_relu[0][0]']   \n",
            " ampling2D)                     256)                                                              \n",
            "                                                                                                  \n",
            " decoder_stage1_concat (Concate  (None, None, None,   0          ['decoder_stage1_upsampling[0][0]\n",
            " nate)                          384)                             ',                               \n",
            "                                                                  'stage3_unit1_relu1[0][0]']     \n",
            "                                                                                                  \n",
            " decoder_stage1a_conv (Conv2D)  (None, None, None,   442368      ['decoder_stage1_concat[0][0]']  \n",
            "                                128)                                                              \n",
            "                                                                                                  \n",
            " decoder_stage1a_bn (BatchNorma  (None, None, None,   512        ['decoder_stage1a_conv[0][0]']   \n",
            " lization)                      128)                                                              \n",
            "                                                                                                  \n",
            " decoder_stage1a_relu (Activati  (None, None, None,   0          ['decoder_stage1a_bn[0][0]']     \n",
            " on)                            128)                                                              \n",
            "                                                                                                  \n",
            " decoder_stage1b_conv (Conv2D)  (None, None, None,   147456      ['decoder_stage1a_relu[0][0]']   \n",
            "                                128)                                                              \n",
            "                                                                                                  \n",
            " decoder_stage1b_bn (BatchNorma  (None, None, None,   512        ['decoder_stage1b_conv[0][0]']   \n",
            " lization)                      128)                                                              \n",
            "                                                                                                  \n",
            " decoder_stage1b_relu (Activati  (None, None, None,   0          ['decoder_stage1b_bn[0][0]']     \n",
            " on)                            128)                                                              \n",
            "                                                                                                  \n",
            " decoder_stage2_upsampling (UpS  (None, None, None,   0          ['decoder_stage1b_relu[0][0]']   \n",
            " ampling2D)                     128)                                                              \n",
            "                                                                                                  \n",
            " decoder_stage2_concat (Concate  (None, None, None,   0          ['decoder_stage2_upsampling[0][0]\n",
            " nate)                          192)                             ',                               \n",
            "                                                                  'stage2_unit1_relu1[0][0]']     \n",
            "                                                                                                  \n",
            " decoder_stage2a_conv (Conv2D)  (None, None, None,   110592      ['decoder_stage2_concat[0][0]']  \n",
            "                                64)                                                               \n",
            "                                                                                                  \n",
            " decoder_stage2a_bn (BatchNorma  (None, None, None,   256        ['decoder_stage2a_conv[0][0]']   \n",
            " lization)                      64)                                                               \n",
            "                                                                                                  \n",
            " decoder_stage2a_relu (Activati  (None, None, None,   0          ['decoder_stage2a_bn[0][0]']     \n",
            " on)                            64)                                                               \n",
            "                                                                                                  \n",
            " decoder_stage2b_conv (Conv2D)  (None, None, None,   36864       ['decoder_stage2a_relu[0][0]']   \n",
            "                                64)                                                               \n",
            "                                                                                                  \n",
            " decoder_stage2b_bn (BatchNorma  (None, None, None,   256        ['decoder_stage2b_conv[0][0]']   \n",
            " lization)                      64)                                                               \n",
            "                                                                                                  \n",
            " decoder_stage2b_relu (Activati  (None, None, None,   0          ['decoder_stage2b_bn[0][0]']     \n",
            " on)                            64)                                                               \n",
            "                                                                                                  \n",
            " decoder_stage3_upsampling (UpS  (None, None, None,   0          ['decoder_stage2b_relu[0][0]']   \n",
            " ampling2D)                     64)                                                               \n",
            "                                                                                                  \n",
            " decoder_stage3_concat (Concate  (None, None, None,   0          ['decoder_stage3_upsampling[0][0]\n",
            " nate)                          128)                             ',                               \n",
            "                                                                  'relu0[0][0]']                  \n",
            "                                                                                                  \n",
            " decoder_stage3a_conv (Conv2D)  (None, None, None,   36864       ['decoder_stage3_concat[0][0]']  \n",
            "                                32)                                                               \n",
            "                                                                                                  \n",
            " decoder_stage3a_bn (BatchNorma  (None, None, None,   128        ['decoder_stage3a_conv[0][0]']   \n",
            " lization)                      32)                                                               \n",
            "                                                                                                  \n",
            " decoder_stage3a_relu (Activati  (None, None, None,   0          ['decoder_stage3a_bn[0][0]']     \n",
            " on)                            32)                                                               \n",
            "                                                                                                  \n",
            " decoder_stage3b_conv (Conv2D)  (None, None, None,   9216        ['decoder_stage3a_relu[0][0]']   \n",
            "                                32)                                                               \n",
            "                                                                                                  \n",
            " decoder_stage3b_bn (BatchNorma  (None, None, None,   128        ['decoder_stage3b_conv[0][0]']   \n",
            " lization)                      32)                                                               \n",
            "                                                                                                  \n",
            " decoder_stage3b_relu (Activati  (None, None, None,   0          ['decoder_stage3b_bn[0][0]']     \n",
            " on)                            32)                                                               \n",
            "                                                                                                  \n",
            " decoder_stage4_upsampling (UpS  (None, None, None,   0          ['decoder_stage3b_relu[0][0]']   \n",
            " ampling2D)                     32)                                                               \n",
            "                                                                                                  \n",
            " decoder_stage4a_conv (Conv2D)  (None, None, None,   4608        ['decoder_stage4_upsampling[0][0]\n",
            "                                16)                              ']                               \n",
            "                                                                                                  \n",
            " decoder_stage4a_bn (BatchNorma  (None, None, None,   64         ['decoder_stage4a_conv[0][0]']   \n",
            " lization)                      16)                                                               \n",
            "                                                                                                  \n",
            " decoder_stage4a_relu (Activati  (None, None, None,   0          ['decoder_stage4a_bn[0][0]']     \n",
            " on)                            16)                                                               \n",
            "                                                                                                  \n",
            " decoder_stage4b_conv (Conv2D)  (None, None, None,   2304        ['decoder_stage4a_relu[0][0]']   \n",
            "                                16)                                                               \n",
            "                                                                                                  \n",
            " decoder_stage4b_bn (BatchNorma  (None, None, None,   64         ['decoder_stage4b_conv[0][0]']   \n",
            " lization)                      16)                                                               \n",
            "                                                                                                  \n",
            " decoder_stage4b_relu (Activati  (None, None, None,   0          ['decoder_stage4b_bn[0][0]']     \n",
            " on)                            16)                                                               \n",
            "                                                                                                  \n",
            " final_conv (Conv2D)            (None, None, None,   145         ['decoder_stage4b_relu[0][0]']   \n",
            "                                1)                                                                \n",
            "                                                                                                  \n",
            " sigmoid (Activation)           (None, None, None,   0           ['final_conv[0][0]']             \n",
            "                                1)                                                                \n",
            "                                                                                                  \n",
            "==================================================================================================\n",
            "Total params: 24,456,154\n",
            "Trainable params: 24,438,804\n",
            "Non-trainable params: 17,350\n",
            "__________________________________________________________________________________________________\n",
            "None\n"
          ]
        }
      ],
      "source": [
        "print(model.summary())\n"
      ]
    },
    {
      "cell_type": "code",
      "execution_count": null,
      "metadata": {
        "colab": {
          "base_uri": "https://localhost:8080/"
        },
        "id": "MkLZ1yCdZbUX",
        "outputId": "e4c71a29-1061-4312-9edc-fd54d2594cdc"
      },
      "outputs": [
        {
          "name": "stdout",
          "output_type": "stream",
          "text": [
            "Epoch 1/5\n",
            "25/25 [==============================] - 48s 395ms/step - loss: -262.2489 - mse: 19848.2812 - val_loss: -1507.6112 - val_mse: 19057.4922\n",
            "Epoch 2/5\n",
            "25/25 [==============================] - 4s 152ms/step - loss: -552.6208 - mse: 19836.2422 - val_loss: -11437.0312 - val_mse: 18970.6445\n",
            "Epoch 3/5\n",
            "25/25 [==============================] - 4s 154ms/step - loss: -820.6835 - mse: 19831.6680 - val_loss: -7131.6064 - val_mse: 18974.8359\n",
            "Epoch 4/5\n",
            "25/25 [==============================] - 4s 156ms/step - loss: -1189.2809 - mse: 19830.1641 - val_loss: -9417.5215 - val_mse: 18972.5234\n",
            "Epoch 5/5\n",
            "25/25 [==============================] - 4s 151ms/step - loss: -1724.7227 - mse: 19832.7773 - val_loss: -15543.8320 - val_mse: 18973.8945\n"
          ]
        }
      ],
      "source": [
        "\n",
        "history=model.fit(x_train, \n",
        "          y_train,\n",
        "          batch_size=8, \n",
        "          epochs=20,\n",
        "          verbose=1,\n",
        "          validation_data=(x_val, y_val))\n"
      ]
    },
    {
      "cell_type": "code",
      "execution_count": null,
      "metadata": {
        "colab": {
          "base_uri": "https://localhost:8080/"
        },
        "id": "9zW9sksLbUCg",
        "outputId": "b8d96ced-d35b-468c-e651-f5b3f48a99df"
      },
      "outputs": [
        {
          "name": "stdout",
          "output_type": "stream",
          "text": [
            "2/2 [==============================] - 6s 2s/step - loss: -15543.8350 - mse: 18973.8945\n"
          ]
        }
      ],
      "source": [
        "accuracy = model.evaluate(x_val, y_val)\n"
      ]
    },
    {
      "cell_type": "code",
      "execution_count": null,
      "metadata": {
        "colab": {
          "base_uri": "https://localhost:8080/",
          "height": 472
        },
        "id": "U6zRigebbWb2",
        "outputId": "3a18fcab-1329-4432-c7d3-f4433b2b324a"
      },
      "outputs": [
        {
          "data": {
            "image/png": "[encoded data removed]",
            "text/plain": [
              "<Figure size 640x480 with 1 Axes>"
            ]
          },
          "metadata": {},
          "output_type": "display_data"
        }
      ],
      "source": [
        "loss = history.history['loss']\n",
        "val_loss = history.history['val_loss']\n",
        "epochs = range(1, len(loss) + 1)\n",
        "plt.plot(epochs, loss, 'y', label='Training loss')\n",
        "plt.plot(epochs, val_loss, 'r', label='Validation loss')\n",
        "plt.title('Training and validation loss')\n",
        "plt.xlabel('Epochs')\n",
        "plt.ylabel('Loss')\n",
        "plt.legend()\n",
        "plt.show()"
      ]
    },
    {
      "cell_type": "code",
      "execution_count": null,
      "metadata": {
        "colab": {
          "base_uri": "https://localhost:8080/"
        },
        "id": "zfEKbeembeTg",
        "outputId": "db9315c1-d395-4938-fc3f-f31f18a22b0d"
      },
      "outputs": [
        {
          "name": "stderr",
          "output_type": "stream",
          "text": [
            "WARNING:tensorflow:Compiled the loaded model, but the compiled metrics have yet to be built. `model.compile_metrics` will be empty until you train or evaluate the model.\n"
          ]
        }
      ],
      "source": [
        "model.save('/content/drive/MyDrive/model_seg_uvs/test_laye_uvs_seg.h5')\n"
      ]
    },
    {
      "cell_type": "markdown",
      "metadata": {
        "id": "nXkBWZjnU9Te"
      },
      "source": [
        "**Test en ineference sur quelques images**"
      ]
    },
    {
      "cell_type": "code",
      "execution_count": null,
      "metadata": {
        "id": "Ev2wV87GU82_"
      },
      "outputs": [],
      "source": []
    },
    {
      "cell_type": "code",
      "execution_count": null,
      "metadata": {
        "colab": {
          "base_uri": "https://localhost:8080/"
        },
        "id": "IhrFuSVbbjFA",
        "outputId": "506820bf-367d-4d7d-92e6-72f7ea118f40"
      },
      "outputs": [
        {
          "name": "stdout",
          "output_type": "stream",
          "text": [
            "1/1 [==============================] - 1s 705ms/step\n"
          ]
        }
      ],
      "source": [
        "from tensorflow import keras\n",
        "model = keras.models.load_model('/content/drive/MyDrive/model_seg_uvs/test_laye_uvs_seg.h5', compile=False)\n",
        "#Test on a different image\n",
        "#READ EXTERNAL IMAGE...\n",
        "test_img = cv2.imread('/content/drive/MyDrive/Model_Xrays/images/JPCLN003.png', cv2.IMREAD_COLOR)       \n",
        "test_img = cv2.resize(test_img, (SIZE_Y, SIZE_X), interpolation=cv2.INTER_AREA)\n",
        "\n",
        "test_img = cv2.cvtColor(test_img, cv2.COLOR_RGB2BGR)\n",
        "test_img = np.expand_dims(test_img, axis=0)\n",
        "\n",
        "prediction = model.predict(test_img)\n",
        "\n"
      ]
    },
    {
      "cell_type": "code",
      "execution_count": null,
      "metadata": {
        "colab": {
          "base_uri": "https://localhost:8080/",
          "height": 435
        },
        "id": "3IGIHN0Hdr5e",
        "outputId": "c093a568-25cc-47d1-db4c-79d32f37faed"
      },
      "outputs": [
        {
          "data": {
            "image/png": "[encoded data removed]",
            "text/plain": [
              "<Figure size 640x480 with 1 Axes>"
            ]
          },
          "metadata": {},
          "output_type": "display_data"
        }
      ],
      "source": [
        "prediction_image = prediction.reshape(mask.shape)\n",
        "plt.imshow(prediction_image )\n",
        "plt.imsave('/content/drive/MyDrive/model_seg_uvs/test_01uvs.jpg', prediction_image)\n",
        "\n"
      ]
    },
    {
      "cell_type": "markdown",
      "metadata": {
        "id": "rCYQjKmSuDQy"
      },
      "source": [
        "**Models UNET**"
      ]
    },
    {
      "cell_type": "code",
      "execution_count": null,
      "metadata": {
        "id": "LwWzMyskXObb"
      },
      "outputs": [],
      "source": [
        "# multiclass segmentation with non overlapping class masks (your classes + background)\n",
        "model_01 = sm.Unet('resnet34', classes=1, activation='sigmoid')"
      ]
    },
    {
      "cell_type": "code",
      "execution_count": null,
      "metadata": {
        "id": "UN8b6LklKuuV"
      },
      "outputs": [],
      "source": [
        "opt = tf.keras.optimizers.Adam(\n",
        "    learning_rate=0.001,\n",
        "    beta_1=0.9,\n",
        "    beta_2=0.999,\n",
        "    epsilon=1e-07,\n",
        "    amsgrad=False,\n",
        "    weight_decay=None,\n",
        "    clipnorm=None,\n",
        "    clipvalue=None,\n",
        "    global_clipnorm=None,\n",
        "    use_ema=False,\n",
        "    ema_momentum=0.99,\n",
        "    ema_overwrite_frequency=None,\n",
        "    jit_compile=True,\n",
        "    name='Adam',\n",
        ")\n"
      ]
    },
    {
      "cell_type": "code",
      "execution_count": null,
      "metadata": {
        "id": "LenqcH3wYCIU"
      },
      "outputs": [],
      "source": [
        "model_01.compile(optimizer=opt, loss='binary_crossentropy', metrics=['mse'])"
      ]
    },
    {
      "cell_type": "code",
      "execution_count": null,
      "metadata": {
        "colab": {
          "base_uri": "https://localhost:8080/"
        },
        "id": "0tamUUZMXOZH",
        "outputId": "00188a7b-9ca8-4451-ae65-17aaf9767a45"
      },
      "outputs": [
        {
          "name": "stdout",
          "output_type": "stream",
          "text": [
            "Epoch 1/10\n",
            "25/25 [==============================] - 31s 213ms/step - loss: -360.9248 - mse: 19844.3418 - val_loss: -66632.4766 - val_mse: 18965.5859\n",
            "Epoch 2/10\n",
            "25/25 [==============================] - 4s 160ms/step - loss: -754.3480 - mse: 19835.3125 - val_loss: -57175.4531 - val_mse: 18965.6191\n",
            "Epoch 3/10\n",
            "25/25 [==============================] - 4s 165ms/step - loss: -1126.8519 - mse: 19833.0488 - val_loss: -33845.9609 - val_mse: 18966.1426\n",
            "Epoch 4/10\n",
            "25/25 [==============================] - 4s 166ms/step - loss: -1572.5409 - mse: 19830.5410 - val_loss: -37854.4102 - val_mse: 18966.1035\n",
            "Epoch 5/10\n",
            "25/25 [==============================] - 4s 161ms/step - loss: -2191.6069 - mse: 19830.2773 - val_loss: -23373.8848 - val_mse: 18966.7441\n",
            "Epoch 6/10\n",
            "25/25 [==============================] - 4s 165ms/step - loss: -2874.0203 - mse: 19830.9258 - val_loss: -16973.4434 - val_mse: 18968.7617\n",
            "Epoch 7/10\n",
            "25/25 [==============================] - 4s 162ms/step - loss: -3622.0713 - mse: 19829.6074 - val_loss: -19497.8867 - val_mse: 18968.7246\n",
            "Epoch 8/10\n",
            "25/25 [==============================] - 4s 162ms/step - loss: -4484.1035 - mse: 19829.8301 - val_loss: -27974.4824 - val_mse: 18967.6621\n",
            "Epoch 9/10\n",
            "25/25 [==============================] - 4s 164ms/step - loss: -5416.0215 - mse: 19829.3691 - val_loss: -4853.3813 - val_mse: 18995.1699\n",
            "Epoch 10/10\n",
            "25/25 [==============================] - 4s 160ms/step - loss: -6398.4053 - mse: 19828.4590 - val_loss: -20326.1758 - val_mse: 18968.9844\n"
          ]
        }
      ],
      "source": [
        "\n",
        "history=model_01.fit(x_train, \n",
        "          y_train,\n",
        "          batch_size=8, \n",
        "          epochs=10,\n",
        "          verbose=1,\n",
        "          validation_data=(x_val, y_val))\n"
      ]
    },
    {
      "cell_type": "code",
      "execution_count": null,
      "metadata": {
        "id": "W6caFW3MasK0"
      },
      "outputs": [],
      "source": [
        "model_01.save('/content/drive/MyDrive/model_seg_uvs/test_laye_uvs_seg_01.h5')"
      ]
    },
    {
      "cell_type": "code",
      "execution_count": null,
      "metadata": {
        "colab": {
          "base_uri": "https://localhost:8080/"
        },
        "id": "U-n-w32IZGSt",
        "outputId": "407a8a3e-6ce1-49a4-c8b1-6b47804ba046"
      },
      "outputs": [
        {
          "name": "stdout",
          "output_type": "stream",
          "text": [
            "1/1 [==============================] - 1s 709ms/step\n"
          ]
        }
      ],
      "source": [
        "from tensorflow import keras\n",
        "model = keras.models.load_model('/content/drive/MyDrive/model_seg_uvs/test_laye_uvs_seg_01.h5', compile=False)\n",
        "#Test on a different image\n",
        "#READ EXTERNAL IMAGE...\n",
        "test_img = cv2.imread('/content/drive/MyDrive/Model_Xrays/subset/train/images/JPCLN007.png', cv2.IMREAD_COLOR)       \n",
        "test_img = cv2.resize(test_img, (SIZE_Y, SIZE_X), interpolation=cv2.INTER_AREA)\n",
        "\n",
        "test_img = cv2.cvtColor(test_img, cv2.COLOR_RGB2BGR)\n",
        "test_img = np.expand_dims(test_img, axis=0)\n",
        "\n",
        "prediction = model.predict(test_img)\n"
      ]
    },
    {
      "cell_type": "code",
      "execution_count": null,
      "metadata": {
        "colab": {
          "base_uri": "https://localhost:8080/",
          "height": 435
        },
        "id": "k5_bQyaKZGP7",
        "outputId": "6d2f35fa-734a-47f3-e7d9-97ccd2eb87f5"
      },
      "outputs": [
        {
          "data": {
            "image/png": "[encoded data removed]",
            "text/plain": [
              "<Figure size 640x480 with 1 Axes>"
            ]
          },
          "metadata": {},
          "output_type": "display_data"
        }
      ],
      "source": [
        "prediction_image = prediction.reshape(mask.shape)\n",
        "plt.imshow(prediction_image )\n",
        "plt.imsave('test_model2.jpg', prediction_image)"
      ]
    },
    {
      "cell_type": "markdown",
      "metadata": {
        "id": "zb0o-UDsRKQc"
      },
      "source": [
        "**TEST ave UNET depuis segmentation_models**"
      ]
    },
    {
      "cell_type": "code",
      "execution_count": null,
      "metadata": {
        "id": "NywzUa2_ZGF8"
      },
      "outputs": [],
      "source": [
        "from segmentation_models import Unet\n",
        "from segmentation_models import get_preprocessing\n",
        "from segmentation_models.losses import bce_jaccard_loss\n",
        "from segmentation_models.metrics import iou_score\n",
        "model = Unet('resnet152', encoder_weights='imagenet')"
      ]
    },
    {
      "cell_type": "code",
      "execution_count": null,
      "metadata": {
        "id": "hS6AoStIZGDK"
      },
      "outputs": [],
      "source": [
        "\n",
        "model = Unet('resnet152', encoder_weights='imagenet')"
      ]
    },
    {
      "cell_type": "code",
      "execution_count": null,
      "metadata": {
        "id": "XlV3tK-EQIxD"
      },
      "outputs": [],
      "source": [
        "import tensorflow as tf\n",
        "import glob\n",
        "import cv2\n",
        "import os\n",
        "import numpy as np\n",
        "from matplotlib import pyplot as plt\n",
        "\n",
        "BACKBONE1= 'resnet152'\n",
        "preprocess_input = get_preprocessing(BACKBONE1)"
      ]
    },
    {
      "cell_type": "code",
      "execution_count": null,
      "metadata": {
        "id": "aKPdoFNgZGAi"
      },
      "outputs": [],
      "source": [
        "#Capture training image info as a list\n",
        "train_image = []\n",
        "\n",
        "for directory_path in glob.glob(\"/content/drive/MyDrive/Model_Xrays/images\"):\n",
        "    for img_path in glob.glob(os.path.join(directory_path, \"*.png\")):\n",
        "        #print(img_path)\n",
        "        img = cv2.imread(img_path, cv2.IMREAD_COLOR)       \n",
        "        #img = cv2.resize(img, (SIZE_Y, SIZE_X))\n",
        "        #img = cv2.cvtColor(img, cv2.COLOR_RGB2BGR)\n",
        "        train_image.append(img)\n",
        "        #train_labels.append(label)\n",
        "#Convert list to array for machine learning processing        \n",
        "train_image = np.array(train_image)\n",
        "train_mask = [] \n",
        "for directory_path in glob.glob(\"/content/drive/MyDrive/Model_Xrays/Masks\"):\n",
        "    for mask_path in glob.glob(os.path.join(directory_path, \"*.png\")):\n",
        "        mask = cv2.imread(mask_path, 0)       \n",
        "        #mask = cv2.resize(mask, (SIZE_Y, SIZE_X))\n",
        "        #mask = cv2.cvtColor(mask, cv2.COLOR_RGB2BGR)\n",
        "        train_mask.append(mask)\n",
        "        #train_labels.append(label)\n",
        "#Convert list to array for machine learning processing          \n",
        "train_mask = np.array(train_mask)\n",
        "X = train_image\n",
        "Y = train_mask\n",
        "Y = np.expand_dims(Y, axis=3) #May not be necessary.. leftover from previous code \n",
        "from sklearn.model_selection import train_test_split\n",
        "x_train, x_val, y_train, y_val = train_test_split(X, Y, test_size=0.2, random_state=42)\n",
        "\n",
        "x_train = preprocess_input(x_train)\n",
        "x_val = preprocess_input(x_val)\n",
        "model5 = Unet('resnet152', encoder_weights='imagenet')\n",
        "model5.compile(optimizer='adam', loss='binary_crossentropy', metrics=['mse'])"
      ]
    },
    {
      "cell_type": "code",
      "execution_count": null,
      "metadata": {
        "id": "L7_yVm8tXOW7"
      },
      "outputs": [],
      "source": [
        "hist=model5.fit(x_train, \n",
        "          y_train,\n",
        "          batch_size=8, \n",
        "          epochs=20,\n",
        "          verbose=1,\n",
        "          validation_data=(x_val, y_val))"
      ]
    },
    {
      "cell_type": "code",
      "execution_count": null,
      "metadata": {
        "id": "8Bj_qAy5RlyM"
      },
      "outputs": [],
      "source": [
        "model5.save('laye5.h5')"
      ]
    },
    {
      "cell_type": "code",
      "execution_count": null,
      "metadata": {
        "id": "-Y0shHk3XOUW"
      },
      "outputs": [],
      "source": [
        "from tensorflow import keras\n",
        "model = keras.models.load_model('laye5.h5', compile=False)\n",
        "#Test on a different image\n",
        "#READ EXTERNAL IMAGE...\n",
        "test_img = cv2.imread('/content/drive/MyDrive/Model_Xrays/images/JPCLN014.png', cv2.IMREAD_COLOR)       \n",
        "test_img = cv2.resize(test_img, (SIZE_Y, SIZE_X), interpolation=cv2.INTER_AREA)\n",
        "\n",
        "test_img = cv2.cvtColor(test_img, cv2.COLOR_RGB2BGR)\n",
        "test_img = np.expand_dims(test_img, axis=0)\n",
        "\n",
        "prediction = model.predict(test_img)\n",
        "prediction_image = prediction.reshape(mask.shape)\n",
        "plt.imshow(prediction_image )\n",
        "plt.imsave('test5_model2.jpg', prediction_image)\n"
      ]
    },
    {
      "cell_type": "code",
      "execution_count": null,
      "metadata": {
        "id": "Kcf-vQAiXOR7"
      },
      "outputs": [],
      "source": [
        "prediction_image = prediction.reshape(mask.shape)\n",
        "plt.imshow(prediction_image )\n",
        "plt.imsave('test5_model2.jpg', prediction_image)"
      ]
    },
    {
      "cell_type": "code",
      "execution_count": null,
      "metadata": {
        "id": "GrbmmV52XOPn"
      },
      "outputs": [],
      "source": [
        "accuracy1 = model5.evaluate(x_val, y_val)\n",
        "loss = history.history['loss']\n",
        "val_loss = history.history['val_loss']\n",
        "epochs = range(1, len(loss) + 1)\n",
        "plt.plot(epochs, loss, 'y', label='Training loss')\n",
        "plt.plot(epochs, val_loss, 'r', label='Validation loss')\n",
        "plt.title('Training and validation loss')\n",
        "plt.xlabel('Epochs')\n",
        "plt.ylabel('Loss')\n",
        "plt.legend()\n",
        "plt.show()"
      ]
    },
    {
      "cell_type": "code",
      "execution_count": null,
      "metadata": {
        "id": "LLg4M-oWbZlT"
      },
      "outputs": [],
      "source": [
        "\n",
        "\n",
        "from keras.models import Model\n",
        "from keras.layers import Input, Conv2D, MaxPooling2D, UpSampling2D, concatenate, Conv2DTranspose, BatchNormalization, Dropout, Lambda\n",
        "\n",
        "################################################################\n",
        "def simple_unet_model(shape):\n",
        "#Build the model\n",
        "    inputs = Input(shpae=(256,256,1))\n",
        "    #s = Lambda(lambda x: x / 255)(inputs)   #No need for this if we normalize our inputs beforehand\n",
        "    s = inputs\n",
        "\n",
        "    #Contraction path\n",
        "    c1 = Conv2D(16, (3, 3), activation='relu', kernel_initializer='he_normal', padding='same')(s)\n",
        "    c1 = Dropout(0.1)(c1)\n",
        "    c1 = Conv2D(16, (3, 3), activation='relu', kernel_initializer='he_normal', padding='same')(c1)\n",
        "    p1 = MaxPooling2D((2, 2))(c1)\n",
        "    \n",
        "    c2 = Conv2D(32, (3, 3), activation='relu', kernel_initializer='he_normal', padding='same')(p1)\n",
        "    c2 = Dropout(0.1)(c2)\n",
        "    c2 = Conv2D(32, (3, 3), activation='relu', kernel_initializer='he_normal', padding='same')(c2)\n",
        "    p2 = MaxPooling2D((2, 2))(c2)\n",
        "     \n",
        "    c3 = Conv2D(64, (3, 3), activation='relu', kernel_initializer='he_normal', padding='same')(p2)\n",
        "    c3 = Dropout(0.2)(c3)\n",
        "    c3 = Conv2D(64, (3, 3), activation='relu', kernel_initializer='he_normal', padding='same')(c3)\n",
        "    p3 = MaxPooling2D((2, 2))(c3)\n",
        "     \n",
        "    c4 = Conv2D(128, (3, 3), activation='relu', kernel_initializer='he_normal', padding='same')(p3)\n",
        "    c4 = Dropout(0.2)(c4)\n",
        "    c4 = Conv2D(128, (3, 3), activation='relu', kernel_initializer='he_normal', padding='same')(c4)\n",
        "    p4 = MaxPooling2D(pool_size=(2, 2))(c4)\n",
        "     \n",
        "    c5 = Conv2D(256, (3, 3), activation='relu', kernel_initializer='he_normal', padding='same')(p4)\n",
        "    c5 = Dropout(0.3)(c5)\n",
        "    c5 = Conv2D(256, (3, 3), activation='relu', kernel_initializer='he_normal', padding='same')(c5)\n",
        "    \n",
        "    #Expansive path \n",
        "    u6 = Conv2DTranspose(128, (2, 2), strides=(2, 2), padding='same')(c5)\n",
        "    u6 = concatenate([u6, c4])\n",
        "    c6 = Conv2D(128, (3, 3), activation='relu', kernel_initializer='he_normal', padding='same')(u6)\n",
        "    c6 = Dropout(0.2)(c6)\n",
        "    c6 = Conv2D(128, (3, 3), activation='relu', kernel_initializer='he_normal', padding='same')(c6)\n",
        "     \n",
        "    u7 = Conv2DTranspose(64, (2, 2), strides=(2, 2), padding='same')(c6)\n",
        "    u7 = concatenate([u7, c3])\n",
        "    c7 = Conv2D(64, (3, 3), activation='relu', kernel_initializer='he_normal', padding='same')(u7)\n",
        "    c7 = Dropout(0.2)(c7)\n",
        "    c7 = Conv2D(64, (3, 3), activation='relu', kernel_initializer='he_normal', padding='same')(c7)\n",
        "     \n",
        "    u8 = Conv2DTranspose(32, (2, 2), strides=(2, 2), padding='same')(c7)\n",
        "    u8 = concatenate([u8, c2])\n",
        "    c8 = Conv2D(32, (3, 3), activation='relu', kernel_initializer='he_normal', padding='same')(u8)\n",
        "    c8 = Dropout(0.1)(c8)\n",
        "    c8 = Conv2D(32, (3, 3), activation='relu', kernel_initializer='he_normal', padding='same')(c8)\n",
        "     \n",
        "    u9 = Conv2DTranspose(16, (2, 2), strides=(2, 2), padding='same')(c8)\n",
        "    u9 = concatenate([u9, c1], axis=3)\n",
        "    c9 = Conv2D(16, (3, 3), activation='relu', kernel_initializer='he_normal', padding='same')(u9)\n",
        "    c9 = Dropout(0.1)(c9)\n",
        "    c9 = Conv2D(16, (3, 3), activation='relu', kernel_initializer='he_normal', padding='same')(c9)\n",
        "     \n",
        "    outputs = Conv2D(1, (1, 1), activation='sigmoid')(c9)\n",
        "     \n",
        "    model = Model(inputs=[inputs], outputs=[outputs])\n",
        "    model.compile(optimizer='adam', loss='binary_crossentropy', metrics=['accuracy'])\n",
        "    model.summary()\n",
        "    \n",
        "    return model"
      ]
    },
    {
      "cell_type": "code",
      "execution_count": null,
      "metadata": {
        "id": "p2iFd3PNi8gw"
      },
      "outputs": [],
      "source": [
        "\n",
        "def get_model():\n",
        "    return simple_unet_model(shape)"
      ]
    },
    {
      "cell_type": "code",
      "execution_count": null,
      "metadata": {
        "id": "7GXmYongjKUo"
      },
      "outputs": [],
      "source": [
        "model = get_model()"
      ]
    },
    {
      "cell_type": "code",
      "execution_count": null,
      "metadata": {
        "id": "_loE462bh2US"
      },
      "outputs": [],
      "source": [
        "model=simple_unet_model(shape)"
      ]
    },
    {
      "cell_type": "code",
      "execution_count": null,
      "metadata": {
        "id": "_7nrzgK0bZhm"
      },
      "outputs": [],
      "source": [
        "\n",
        "\n",
        "from keras.utils import normalize\n",
        "import os\n",
        "import cv2\n",
        "from PIL import Image\n",
        "import numpy as np\n",
        "from matplotlib import pyplot as plt\n",
        "\n",
        "\n",
        "image_directory = '/content/drive/MyDrive/Model_Xrays/images/'\n",
        "mask_directory = '/content/drive/MyDrive/Model_Xrays/Masks/'\n",
        "\n",
        "\n",
        "SIZE = 256\n",
        "image_dataset = []  #Many ways to handle data, you can use pandas. Here, we are using a list format.  \n",
        "mask_dataset = []  #Place holders to define add labels. We will add 0 to all parasitized images and 1 to uninfected.\n",
        "\n",
        "images = os.listdir(image_directory)\n",
        "for i, image_name in enumerate(images):    #Remember enumerate method adds a counter and returns the enumerate object\n",
        "    if (image_name.split('.')[1] == 'png'):\n",
        "        #print(image_directory+image_name)\n",
        "        image = cv2.imread(image_directory+image_name, 0)\n",
        "        image = Image.fromarray(image)\n",
        "        image = image.resize((SIZE, SIZE))\n",
        "        image_dataset.append(np.array(image))\n",
        "\n",
        "#Iterate through all images in Uninfected folder, resize to 64 x 64\n",
        "#Then save into the same numpy array 'dataset' but with label 1\n",
        "\n",
        "masks = os.listdir(mask_directory)\n",
        "for i, image_name in enumerate(masks):\n",
        "    if (image_name.split('.')[1] == 'png'):\n",
        "        image = cv2.imread(mask_directory+image_name, 0)\n",
        "        image = Image.fromarray(image)\n",
        "        image = image.resize((SIZE, SIZE))\n",
        "        mask_dataset.append(np.array(image))\n",
        "\n",
        "\n",
        "#Normalize images\n",
        "image_dataset = np.expand_dims(normalize(np.array(image_dataset), axis=1),3)\n",
        "#D not normalize masks, just rescale to 0 to 1.\n",
        "mask_dataset = np.expand_dims((np.array(mask_dataset)),3) /255.\n",
        "\n",
        "\n",
        "from sklearn.model_selection import train_test_split\n",
        "X_train, X_test, y_train, y_test = train_test_split(image_dataset, mask_dataset, test_size = 0.10, random_state = 0)\n",
        "\n",
        "#Sanity check, view few mages\n",
        "import random\n",
        "import numpy as np\n",
        "image_number = random.randint(0, len(X_train))\n",
        "plt.figure(figsize=(12, 6))\n",
        "plt.subplot(121)\n",
        "plt.imshow(np.reshape(X_train[image_number], (256, 256)), cmap='gray')\n",
        "plt.subplot(122)\n",
        "plt.imshow(np.reshape(y_train[image_number], (256, 256)), cmap='gray')\n",
        "plt.show()\n",
        "\n",
        "###############################################################\n",
        "IMG_HEIGHT = image_dataset.shape[1]\n",
        "IMG_WIDTH  = image_dataset.shape[2]\n",
        "IMG_CHANNELS = image_dataset.shape[3]\n",
        "\n",
        "def get_model():\n",
        "    return simple_unet_model(IMG_HEIGHT, IMG_WIDTH, IMG_CHANNELS)\n",
        "\n",
        "model = get_model()\n",
        "\n",
        "\n",
        "#If starting with pre-trained weights. \n",
        "#model.load_weights('mitochondria_gpu_tf1.4.hdf5')\n",
        "\n",
        "history = model.fit(X_train, y_train, \n",
        "                    batch_size = 16, \n",
        "                    verbose=1, \n",
        "                    epochs=10, \n",
        "                    validation_data=(X_test, y_test), \n",
        "                    shuffle=False)\n",
        "\n",
        "model.save('mitochondria_test.hdf5')\n",
        "\n",
        "############################################################\n",
        "#Evaluate the model\n",
        "\n",
        "\n",
        "\t# evaluate model\n",
        "_, acc = model.evaluate(X_test, y_test)\n",
        "print(\"Accuracy = \", (acc * 100.0), \"%\")\n",
        "\n",
        "\n",
        "#plot the training and validation accuracy and loss at each epoch\n",
        "loss = history.history['loss']\n",
        "val_loss = history.history['val_loss']\n",
        "epochs = range(1, len(loss) + 1)\n",
        "plt.plot(epochs, loss, 'y', label='Training loss')\n",
        "plt.plot(epochs, val_loss, 'r', label='Validation loss')\n",
        "plt.title('Training and validation loss')\n",
        "plt.xlabel('Epochs')\n",
        "plt.ylabel('Loss')\n",
        "plt.legend()\n",
        "plt.show()\n",
        "\n",
        "acc = history.history['acc']\n",
        "#acc = history.history['accuracy']\n",
        "val_acc = history.history['val_acc']\n",
        "#val_acc = history.history['val_accuracy']\n",
        "\n",
        "plt.plot(epochs, acc, 'y', label='Training acc')\n",
        "plt.plot(epochs, val_acc, 'r', label='Validation acc')\n",
        "plt.title('Training and validation accuracy')\n",
        "plt.xlabel('Epochs')\n",
        "plt.ylabel('Accuracy')\n",
        "plt.legend()\n",
        "plt.show()\n",
        "\n",
        "##################################\n",
        "#IOU\n",
        "y_pred=model.predict(X_test)\n",
        "y_pred_thresholded = y_pred > 0.5\n",
        "\n",
        "intersection = np.logical_and(y_test, y_pred_thresholded)\n",
        "union = np.logical_or(y_test, y_pred_thresholded)\n",
        "iou_score = np.sum(intersection) / np.sum(union)\n",
        "print(\"IoU socre is: \", iou_score)\n",
        "\n",
        "#######################################################################\n",
        "#Predict on a few images"
      ]
    },
    {
      "cell_type": "code",
      "execution_count": null,
      "metadata": {
        "id": "WbUpZ3mFcKOh"
      },
      "outputs": [],
      "source": [
        "model = get_model()\n",
        "model.load_weights('mitochondria_50_plus_100_epochs.hdf5') #Trained for 50 epochs and then additional 100\n",
        "#model.load_weights('mitochondria_gpu_tf1.4.hdf5')  #Trained for 50 epochs\n",
        "\n",
        "test_img_number = random.randint(0, len(X_test))\n",
        "test_img = X_test[test_img_number]\n",
        "ground_truth=y_test[test_img_number]\n",
        "test_img_norm=test_img[:,:,0][:,:,None]\n",
        "test_img_input=np.expand_dims(test_img_norm, 0)\n",
        "prediction = (model.predict(test_img_input)[0,:,:,0] > 0.2).astype(np.uint8)\n",
        "\n",
        "test_img_other = cv2.imread('data/test_images/02-1_256.tif', 0)\n",
        "#test_img_other = cv2.imread('data/test_images/img8.tif', 0)\n",
        "test_img_other_norm = np.expand_dims(normalize(np.array(test_img_other), axis=1),2)\n",
        "test_img_other_norm=test_img_other_norm[:,:,0][:,:,None]\n",
        "test_img_other_input=np.expand_dims(test_img_other_norm, 0)\n",
        "\n",
        "#Predict and threshold for values above 0.5 probability\n",
        "#Change the probability threshold to low value (e.g. 0.05) for watershed demo.\n",
        "prediction_other = (model.predict(test_img_other_input)[0,:,:,0] > 0.2).astype(np.uint8)\n",
        "\n",
        "plt.figure(figsize=(16, 8))\n",
        "plt.subplot(231)\n",
        "plt.title('Testing Image')\n",
        "plt.imshow(test_img[:,:,0], cmap='gray')\n",
        "plt.subplot(232)\n",
        "plt.title('Testing Label')\n",
        "plt.imshow(ground_truth[:,:,0], cmap='gray')\n",
        "plt.subplot(233)\n",
        "plt.title('Prediction on test image')\n",
        "plt.imshow(prediction, cmap='gray')\n",
        "plt.subplot(234)\n",
        "plt.title('External Image')\n",
        "plt.imshow(test_img_other, cmap='gray')\n",
        "plt.subplot(235)\n",
        "plt.title('Prediction of external Image')\n",
        "plt.imshow(prediction_other, cmap='gray')\n",
        "plt.show()\n",
        "\n",
        "#plt.imsave('input.jpg', test_img[:,:,0], cmap='gray')\n",
        "#plt.imsave('data/results/output2.jpg', prediction_other, cmap='gray')"
      ]
    }
  ],
  "metadata": {
    "accelerator": "GPU",
    "colab": {
      "provenance": []
    },
    "gpuClass": "standard",
    "kernelspec": {
      "display_name": "Python 3",
      "name": "python3"
    },
    "language_info": {
      "name": "python"
    }
  },
  "nbformat": 4,
  "nbformat_minor": 0
}
